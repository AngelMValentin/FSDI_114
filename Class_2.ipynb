{
 "cells": [
  {
   "cell_type": "markdown",
   "id": "fbba714e-2526-4a51-ad25-b3a83518492a",
   "metadata": {},
   "source": [
    "# Stacks and Queues\n",
    "\n",
    "1. *Stack*: A stack is an ordered collection where items are added and removed from the _top_.\n",
    "2. *Queue*: A queue is an ordered collection where items are added at the back and removed from the front. "
   ]
  },
  {
   "cell_type": "code",
   "execution_count": 1,
   "id": "3f740d40-3f94-40c5-920f-caebab4397a1",
   "metadata": {},
   "outputs": [],
   "source": [
    "class Stack:\n",
    "    def __init__(self):\n",
    "        self.items = []\n",
    "\n",
    "    def push(self, value):\n",
    "        self.items.append(value)\n",
    "\n",
    "    def pop(self):\n",
    "        return self.items.pop()\n",
    "\n",
    "    # Nice to have methods\n",
    "    def peek(self):\n",
    "        return self.items[len(self.items)-1]\n",
    "\n",
    "    def size(self):\n",
    "        return len(self.items)\n",
    "\n",
    "    def is_empty(self):\n",
    "        return self.items == []"
   ]
  },
  {
   "cell_type": "code",
   "execution_count": 5,
   "id": "2910c4a8-be73-4736-9d44-ece8b5350b4c",
   "metadata": {},
   "outputs": [],
   "source": [
    "# From scratch implementation of Stack\n",
    "\n",
    "class StackII:\n",
    "    class Node:\n",
    "        def __init__(self, datum):\n",
    "            self.next = None\n",
    "            self.datum = datum\n",
    "\n",
    "    def push(self, datum):\n",
    "        # No matter what happens, we'll be adding a new element to our stack, so:\n",
    "        new_node = self.__Node(datum)\n",
    "        # Determine the state of the stack first:\n",
    "        if not self.top:\n",
    "            self.top = new_node\n",
    "        else:\n",
    "            new_node.below = self.top\n",
    "            self.top = new_node\n",
    "\n",
    "        def pop(self):\n",
    "            # Check the state of the stack first:\n",
    "            if self.top:\n",
    "                datum = self.top.datum\n",
    "                self.top = self.top.below\n",
    "                return datum\n",
    "            raise IndexError(\"Stack is empty\")\n",
    "\n",
    "        # Nice to have methods:\n",
    "        def peek(self):\n",
    "            # This can be solved in 0(1)\n",
    "            # Note: This allows us to return the topmost \"datum\" without removing its node. \n",
    "            pass\n",
    "\n",
    "        def size(self):\n",
    "            # This can be solved in 0(n) without changes to the rest of the StackII class\n",
    "            # Note: This allows us to return the number of \"Nodes\" in our StackII.\n",
    "            # Extra challenge: Make changes to StackII (and other methods) such that this too runs in 0(1).\n",
    "            count = 0\n",
    "            current = self.top\n",
    "            while current:\n",
    "                current = current.below\n",
    "                count += 1\n",
    "            return count\n",
    "\n",
    "        def is_empty(self):\n",
    "            # This can be solved in 0(1).\n",
    "            # Note: This allows us to determine whether StackII is empty, returns True when it is, False otherwise.\n",
    "            pass"
   ]
  },
  {
   "cell_type": "code",
   "execution_count": 10,
   "id": "ec69980b-cad5-466b-9f82-7588aba4feea",
   "metadata": {},
   "outputs": [
    {
     "ename": "SyntaxError",
     "evalue": "invalid syntax (3316954605.py, line 8)",
     "output_type": "error",
     "traceback": [
      "  \u001b[36mCell\u001b[39m\u001b[36m \u001b[39m\u001b[32mIn[10]\u001b[39m\u001b[32m, line 8\u001b[39m\n\u001b[31m    \u001b[39m\u001b[31m```\u001b[39m\n    ^\n\u001b[31mSyntaxError\u001b[39m\u001b[31m:\u001b[39m invalid syntax\n"
     ]
    }
   ],
   "source": [
    "# Problem 1\n",
    "\n",
    "# Given a string, return it in inverse order.\n",
    "\n",
    "## Criteria Your function `invert_str` must use one of the Stack class above (bonus points if it receives it as a parameter) and leverage the stack\n",
    "    # to invert the string. \n",
    "\n",
    "```\n",
    "Examples:\n",
    "rafael -> leafar\n",
    "rats -> star\n",
    "hello -> olleh\n",
    "\n",
    "```"
   ]
  },
  {
   "cell_type": "code",
   "execution_count": null,
   "id": "5f49a216-4d57-4024-a7e0-12542646b130",
   "metadata": {},
   "outputs": [],
   "source": []
  },
  {
   "cell_type": "code",
   "execution_count": 11,
   "id": "352dc1e2-e095-461e-9bd4-1e7c43d1bc0d",
   "metadata": {},
   "outputs": [
    {
     "ename": "SyntaxError",
     "evalue": "invalid syntax (368616502.py, line 1)",
     "output_type": "error",
     "traceback": [
      "  \u001b[36mCell\u001b[39m\u001b[36m \u001b[39m\u001b[32mIn[11]\u001b[39m\u001b[32m, line 1\u001b[39m\n\u001b[31m    \u001b[39m\u001b[31mDefine function called invert_str that takes a value as a parameter\u001b[39m\n           ^\n\u001b[31mSyntaxError\u001b[39m\u001b[31m:\u001b[39m invalid syntax\n"
     ]
    }
   ],
   "source": [
    "Define function called invert_str that takes a value as a parameter\n",
    "    call __init__ function to initialize and make value retrievable\n",
    "    break the string into individual values using split method\n",
    "    assign it to a new data type like an array\n",
    "\n",
    "    use a for loop to iterate through each character in string\n",
    "        use push method to add each character to the stack\n",
    "        convert array to a string using a method\n",
    "        return string when finished\n",
    "\n",
    "    use a for loop to iterate through each character in stack\n",
    "        use pop function to retrieve each character in string\n",
    "        convert it back to string using a method\n",
    "        return string when finished\n",
    "    "
   ]
  },
  {
   "cell_type": "code",
   "execution_count": 16,
   "id": "2ab01079-5013-43de-bf2d-09bffa75f8cb",
   "metadata": {},
   "outputs": [],
   "source": [
    "def invert_str(value):\n",
    "    __init__(str1, value)\n",
    "    brokenValue = list(value)\n",
    "\n",
    "    for i in brokenValue:\n",
    "        push(brokenValue, i)\n",
    "        str(brokenValue)"
   ]
  },
  {
   "cell_type": "code",
   "execution_count": 1,
   "id": "523b3da7-6d3f-4d35-95cc-f6f003eff266",
   "metadata": {},
   "outputs": [],
   "source": [
    "class Queue:\n",
    "    def __init__(self):\n",
    "        self.items = []\n",
    "\n",
    "    def enqueue(self, value):\n",
    "        self.items.insert(0, value)\n",
    "\n",
    "    def dequeue(self):\n",
    "        return self.items.pop()\n",
    "\n",
    "    # Nice to have methods:\n",
    "    def peek(self):\n",
    "        return self.items[len(self.items)-1]\n",
    "\n",
    "    def size(self):\n",
    "        return len(self.items)\n",
    "\n",
    "    def is_empty(self):\n",
    "        return self.items == None"
   ]
  },
  {
   "cell_type": "code",
   "execution_count": 14,
   "id": "5c594cf1-413c-4a15-97d6-e18b6e80b6ad",
   "metadata": {},
   "outputs": [],
   "source": [
    "# Research what is a Logarithm and how does it work\n",
    "# Research what is the factorial of a number and how does that work? "
   ]
  },
  {
   "cell_type": "code",
   "execution_count": 2,
   "id": "79c2321e-d445-4c98-80f2-eb8f42767841",
   "metadata": {},
   "outputs": [
    {
     "ename": "NameError",
     "evalue": "name 'j' is not defined",
     "output_type": "error",
     "traceback": [
      "\u001b[31m---------------------------------------------------------------------------\u001b[39m",
      "\u001b[31mNameError\u001b[39m                                 Traceback (most recent call last)",
      "\u001b[36mCell\u001b[39m\u001b[36m \u001b[39m\u001b[32mIn[2]\u001b[39m\u001b[32m, line 9\u001b[39m\n\u001b[32m      6\u001b[39m     \u001b[38;5;28;01mfor\u001b[39;00m i \u001b[38;5;129;01min\u001b[39;00m \u001b[38;5;28mrange\u001b[39m(number1):\n\u001b[32m      7\u001b[39m         \u001b[38;5;28mprint\u001b[39m(\u001b[33m\"\u001b[39m\u001b[33mHello\u001b[39m\u001b[33m\"\u001b[39m)\n\u001b[32m----> \u001b[39m\u001b[32m9\u001b[39m \u001b[43mmyfunction\u001b[49m\u001b[43m(\u001b[49m\u001b[32;43m3\u001b[39;49m\u001b[43m,\u001b[49m\u001b[43m \u001b[49m\u001b[32;43m3\u001b[39;49m\u001b[43m)\u001b[49m\n\u001b[32m     11\u001b[39m \u001b[38;5;66;03m# The time complexity is 0(n^2)/\u001b[39;00m\n",
      "\u001b[36mCell\u001b[39m\u001b[36m \u001b[39m\u001b[32mIn[2]\u001b[39m\u001b[32m, line 4\u001b[39m, in \u001b[36mmyfunction\u001b[39m\u001b[34m(number1, number2)\u001b[39m\n\u001b[32m      2\u001b[39m \u001b[38;5;28;01mfor\u001b[39;00m i \u001b[38;5;129;01min\u001b[39;00m \u001b[38;5;28mrange\u001b[39m(number1):\n\u001b[32m      3\u001b[39m     \u001b[38;5;28;01mfor\u001b[39;00m i \u001b[38;5;129;01min\u001b[39;00m \u001b[38;5;28mrange\u001b[39m(number2):\n\u001b[32m----> \u001b[39m\u001b[32m4\u001b[39m         \u001b[38;5;28mprint\u001b[39m(\u001b[33m\"\u001b[39m\u001b[33mNumber1: \u001b[39m\u001b[38;5;132;01m%s\u001b[39;00m\u001b[33m; Number2: \u001b[39m\u001b[38;5;132;01m%s\u001b[39;00m\u001b[33m\"\u001b[39m % (i, \u001b[43mj\u001b[49m))\n\u001b[32m      6\u001b[39m \u001b[38;5;28;01mfor\u001b[39;00m i \u001b[38;5;129;01min\u001b[39;00m \u001b[38;5;28mrange\u001b[39m(number1):\n\u001b[32m      7\u001b[39m     \u001b[38;5;28mprint\u001b[39m(\u001b[33m\"\u001b[39m\u001b[33mHello\u001b[39m\u001b[33m\"\u001b[39m)\n",
      "\u001b[31mNameError\u001b[39m: name 'j' is not defined"
     ]
    }
   ],
   "source": [
    "def myfunction(number1, number2):\n",
    "    for i in range(number1):\n",
    "        for i in range(number2):\n",
    "            print(\"Number1: %s; Number2: %s\" % (i, j))\n",
    "\n",
    "    for i in range(number1):\n",
    "        print(\"Hello\")\n",
    "\n",
    "myfunction(3, 3)\n",
    "\n",
    "# The time complexity is 0(n^2)/"
   ]
  },
  {
   "cell_type": "code",
   "execution_count": null,
   "id": "7b66fd5f-77f5-4736-864d-a15f5bf58d1f",
   "metadata": {},
   "outputs": [],
   "source": []
  }
 ],
 "metadata": {
  "kernelspec": {
   "display_name": "Python 3 (ipykernel)",
   "language": "python",
   "name": "python3"
  },
  "language_info": {
   "codemirror_mode": {
    "name": "ipython",
    "version": 3
   },
   "file_extension": ".py",
   "mimetype": "text/x-python",
   "name": "python",
   "nbconvert_exporter": "python",
   "pygments_lexer": "ipython3",
   "version": "3.12.3"
  }
 },
 "nbformat": 4,
 "nbformat_minor": 5
}
