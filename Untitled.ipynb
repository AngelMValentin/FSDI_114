{
 "cells": [
  {
   "cell_type": "code",
   "execution_count": 4,
   "id": "5042b157-85ed-449c-a1d4-bb245f324a0b",
   "metadata": {},
   "outputs": [],
   "source": [
    "# Linked Lists\n",
    "# In general, there are two varieties of *linked lists*\n",
    "# 1. Singly linked lists (or uni-directional lists)\n",
    "# 2. Doubly linked lists (or bi-directional lists)"
   ]
  },
  {
   "cell_type": "markdown",
   "id": "3f03531d-c28a-4bbc-afcc-e1ab350d20bd",
   "metadata": {},
   "source": [
    "mylist = []\n",
    "\n",
    "help(mylist)\n",
    "\n",
    "for number in range(11):\n",
    "    mylist.append(number)\n",
    "\n",
    "print(mylist)\n",
    "[0, 1, 2, 3, 4, 5, 6, 7, 8, 10]"
   ]
  },
  {
   "cell_type": "code",
   "execution_count": 7,
   "id": "9c774c5d-7339-4883-9af3-8560a6929e04",
   "metadata": {},
   "outputs": [
    {
     "ename": "SyntaxError",
     "evalue": "invalid syntax (4021833321.py, line 22)",
     "output_type": "error",
     "traceback": [
      "  \u001b[36mCell\u001b[39m\u001b[36m \u001b[39m\u001b[32mIn[7]\u001b[39m\u001b[32m, line 22\u001b[39m\n\u001b[31m    \u001b[39m\u001b[31mreturn :\u001b[39m\n           ^\n\u001b[31mSyntaxError\u001b[39m\u001b[31m:\u001b[39m invalid syntax\n"
     ]
    }
   ],
   "source": [
    "# Singly linked list (without relying on built-ins)\n",
    "\n",
    "class SinglyLinkedList:\n",
    "    class __Node:\n",
    "        def __init__(self, datum):\n",
    "            self.datum = datum\n",
    "            self.next = None\n",
    "\n",
    "    def __init__(self):\n",
    "        self.head = None\n",
    "        self.tail = None\n",
    "        # Consider these?\n",
    "        # self.size = 0\n",
    "\n",
    "    def append(self, value):\n",
    "        # Adds a new node at the tail of our list.\n",
    "        new_node = self.__Node(value)\n",
    "        if not self.head:\n",
    "            self.head = new_node\n",
    "            self.tail = new_node\n",
    "        else:\n",
    "            self.tail.next = new_node\n",
    "            self.tail = new_node\n",
    "\n",
    "        \n",
    "    def insert(self, value):\n",
    "        # We replace the head node, we can add anywhere in the middle of the list, or we can append, with this method.\n",
    "        new_node = self.__node(value)\n",
    "        if not self.head:\n",
    "            self.head = new_node\n",
    "            self.tail = new_node\n",
    "        elif index == 0:\n",
    "            new_node.next = self.head \n",
    "            self.head = new_node\n",
    "        else:\n",
    "            prev = None\n",
    "            current = self.head\n",
    "            found = False\n",
    "            count = 0\n",
    "            while current.next and not found:\n",
    "                if count == index:\n",
    "                    found = True\n",
    "                else:\n",
    "                    prev = current \n",
    "                    current = current.next\n",
    "                    count += 1\n",
    "\n",
    "                if found:\n",
    "                    prev.next = new_node\n",
    "                    new_node.next = current\n",
    "                else:\n",
    "                    current.next = new_node\n",
    "                    self.tail = new_node\n",
    "                    \n",
    "        \n",
    "        \n",
    "    def remove(self):\n",
    "        # We replace the head node, we can add anywhere in the middle of the list, or we can append, with this method\n",
    "        \n",
    "        pass\n",
    "\n",
    "    def index(self, value):\n",
    "        # Return the index for the position of the target value in the list\n",
    "        \n",
    "    def __len__(self):\n",
    "        # Returns the number of nodes in the list. \n",
    "        return :\n",
    "\n",
    "    def __str__(self):\n",
    "        # Renders the list as a string, IE: [1, 2, 3, 4]\n",
    "        return \"\"\n",
    "\n",
    "    def __getitem__(self):\n",
    "        # Allows us to acces a specific index in the list, IE through: mylist[2]\n",
    "        return None"
   ]
  },
  {
   "cell_type": "code",
   "execution_count": 8,
   "id": "8a883f2f-064a-42e0-8085-d30f21627593",
   "metadata": {},
   "outputs": [
    {
     "name": "stdout",
     "output_type": "stream",
     "text": [
      "[1, 2, 3, 4]\n"
     ]
    }
   ],
   "source": [
    "mylist = [1, 2, 3]\n",
    "\n",
    "mylist.insert(1000, 4)\n",
    "\n",
    "print(mylist)"
   ]
  },
  {
   "cell_type": "code",
   "execution_count": null,
   "id": "68cf16ba-0898-401d-adcd-a51f79d35753",
   "metadata": {},
   "outputs": [],
   "source": [
    " # Homework: Get to the same point, with \"Doubly Linked List \" by next class, meaning implement at least append and insert\n"
   ]
  }
 ],
 "metadata": {
  "kernelspec": {
   "display_name": "Python 3 (ipykernel)",
   "language": "python",
   "name": "python3"
  },
  "language_info": {
   "codemirror_mode": {
    "name": "ipython",
    "version": 3
   },
   "file_extension": ".py",
   "mimetype": "text/x-python",
   "name": "python",
   "nbconvert_exporter": "python",
   "pygments_lexer": "ipython3",
   "version": "3.12.3"
  }
 },
 "nbformat": 4,
 "nbformat_minor": 5
}
