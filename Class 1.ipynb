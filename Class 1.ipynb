{
 "cells": [
  {
   "cell_type": "markdown",
   "id": "6dccc957-56e5-4914-9ed9-80e9e63c3e57",
   "metadata": {},
   "source": [
    "# Problem 1\n",
    "\n",
    "## Anagram check\n",
    "Given two strings, determine if these are anagrams of each other, considering the following criteria \n",
    "\n",
    "### Criteria \n",
    "Two strings are anagrams of each other if all the criteria below are correct. \n",
    "1. They must use the same letters the same amount of times.\n",
    "2. They must be of equal length in terms of letters.\n",
    "\n",
    "```\n",
    "  \n",
    "3. Examples:\n",
    "4. heart and earth\n",
    "5. cars and scar\n",
    "6. rats and star\n",
    "```\n",
    "    \n",
    "    \n"
   ]
  },
  {
   "cell_type": "code",
   "execution_count": null,
   "id": "d740b646-70df-41a2-bc66-dc7227359d5a",
   "metadata": {},
   "outputs": [],
   "source": [
    "# Poor solutions (resist the urge to come up with a \"clever\" solution)\n"
   ]
  },
  {
   "cell_type": "code",
   "execution_count": null,
   "id": "059b8d9d-a1d0-4b39-965c-ba8ddbebdb99",
   "metadata": {},
   "outputs": [],
   "source": [
    "def anagram_check(string1, string2):\n",
    "    return sorted(string1) == sorted(string2)"
   ]
  },
  {
   "cell_type": "code",
   "execution_count": null,
   "id": "0165993f-6711-4e16-874a-f9fc3c502e99",
   "metadata": {},
   "outputs": [],
   "source": [
    "Design our solution (assembly)\n",
    "\n",
    "Define function \"anagram_check\" with parameters str1 and str2:\n",
    "     str1 = str1 without spaces in lower case\n",
    "     str2 = str2 without spaces in lower case\n",
    "     if str1 is not of equal length to str2:\n",
    "        return false\n",
    "     dict1 = new dictionary\n",
    "     dict2 = new dictionary\n",
    "     for each \"number\" in the range from 0 to the length of str1:\n",
    "        if the character at position \"number\" in str1 is not in dict1:\n",
    "           add that character as a key to dict1 and set it's value to 1\n",
    "        otherwise:\n",
    "           add a 1 tot the value associated with that character\n",
    "        if the character at position \"number\" in str2 is not in dict2:\n",
    "           add that character as a key to dict2 and set it's value to 1\n",
    "        otherwise:\n",
    "           add a 1 to the value associated with that character\n",
    "        if dict1 is equal to dict2:\n",
    "           return True\n",
    "        otherwise:\n",
    "           return False"
   ]
  }
 ],
 "metadata": {
  "kernelspec": {
   "display_name": "Python 3 (ipykernel)",
   "language": "python",
   "name": "python3"
  },
  "language_info": {
   "codemirror_mode": {
    "name": "ipython",
    "version": 3
   },
   "file_extension": ".py",
   "mimetype": "text/x-python",
   "name": "python",
   "nbconvert_exporter": "python",
   "pygments_lexer": "ipython3",
   "version": "3.12.3"
  }
 },
 "nbformat": 4,
 "nbformat_minor": 5
}
