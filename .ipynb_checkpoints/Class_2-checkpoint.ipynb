{
 "cells": [
  {
   "cell_type": "markdown",
   "id": "fbba714e-2526-4a51-ad25-b3a83518492a",
   "metadata": {},
   "source": [
    "# Stacks and Queues\n",
    "\n",
    "1. *Stack*: A stack is an ordered collection where items are added and removed from the _top_.\n",
    "2. *Queue*: A queue is an ordered collection where items are added at the back and removed from the front. "
   ]
  },
  {
   "cell_type": "code",
   "execution_count": 1,
   "id": "3f740d40-3f94-40c5-920f-caebab4397a1",
   "metadata": {},
   "outputs": [],
   "source": [
    "class Stack:\n",
    "    def __init__(self):\n",
    "        self.items = []\n",
    "\n",
    "    def push(self, value):\n",
    "        self.items.append(value)\n",
    "\n",
    "    def pop(self):\n",
    "        return self.items.pop()\n",
    "\n",
    "    # Nice to have methods\n",
    "    def peek(self):\n",
    "        return self.items[len(self.items)-1]\n",
    "\n",
    "    def size(self):\n",
    "        return len(self.items)\n",
    "\n",
    "    def is_empty(self):\n",
    "        return self.items == []"
   ]
  },
  {
   "cell_type": "code",
   "execution_count": 2,
   "id": "2910c4a8-be73-4736-9d44-ece8b5350b4c",
   "metadata": {},
   "outputs": [],
   "source": [
    "# From scratch implementation of Stack\n",
    "\n",
    "class StackII:\n",
    "    class Node:\n",
    "        def __init__(self, value):\n",
    "            self.next = None\n",
    "            self.value = datum\n",
    "\n",
    "    def push(self, datum):\n",
    "        # No matter what happens, we'll be adding a new element to our stack, so:\n",
    "        new_node = self.__Node(datum)\n",
    "        # Determine the state of the stack first:\n",
    "        if not self.top:\n",
    "            self.top = new_node\n",
    "        else:\n",
    "            new_node.below = self.top\n",
    "            self.top = new_node\n",
    "\n",
    "        def pop(self):\n",
    "            # Check the state of the stack first:\n",
    "            if self.top:\n",
    "                datum = self.top.datum\n",
    "                self.top = self.top.below\n",
    "                return datum\n",
    "            raise IndexError(\"Stack is empty\")\n",
    "\n",
    "        # Nice to have methods:\n",
    "        def peek(self):\n",
    "            # This can be solved in 0(1)\n",
    "            # Note: This allows us to return the topmost \"datum\" without removing its node. \n",
    "            pass\n",
    "\n",
    "        def size(self):\n",
    "            # This can be solved in 0(n) without changes to the rest of the StackII class\n",
    "            # Note: This allows us to return the number of \"Nodes\" in our StackII.\n",
    "            # Extra challenge: Make changes to StackII (and other methods) such that this too runs in 0(1).\n",
    "            pass\n",
    "\n",
    "        def is_empty(self):\n",
    "            # This can be solved in 0(1).\n",
    "            # Note: This allows us to determine whether StackII is empty, returns True when it is, False otherwise.\n",
    "            pass"
   ]
  },
  {
   "cell_type": "code",
   "execution_count": 3,
   "id": "ec69980b-cad5-466b-9f82-7588aba4feea",
   "metadata": {},
   "outputs": [
    {
     "ename": "SyntaxError",
     "evalue": "invalid syntax (1213031441.py, line 3)",
     "output_type": "error",
     "traceback": [
      "  \u001b[36mCell\u001b[39m\u001b[36m \u001b[39m\u001b[32mIn[3]\u001b[39m\u001b[32m, line 3\u001b[39m\n\u001b[31m    \u001b[39m\u001b[31mGiven a string, return it in inverse order.\u001b[39m\n          ^\n\u001b[31mSyntaxError\u001b[39m\u001b[31m:\u001b[39m invalid syntax\n"
     ]
    }
   ],
   "source": [
    "# Problem 1\n",
    "\n",
    "Given a string, return it in inverse order.\n",
    "\n",
    "## Criteria Your function `invert_str` must use one of the Stack class above (bonus points if it receives it as a parameter) and leverage the stack\n",
    "    to invert the string. \n",
    "\n",
    "``` \n",
    "Examples:\n",
    "rafael -> leafar\n",
    "rats -> star\n",
    "hello -> olleh\n",
    "```"
   ]
  },
  {
   "cell_type": "code",
   "execution_count": null,
   "id": "352dc1e2-e095-461e-9bd4-1e7c43d1bc0d",
   "metadata": {},
   "outputs": [],
   "source": [
    "Define function called invert_str that takes a value as a parameter\n",
    "    s"
   ]
  }
 ],
 "metadata": {
  "kernelspec": {
   "display_name": "Python 3 (ipykernel)",
   "language": "python",
   "name": "python3"
  },
  "language_info": {
   "codemirror_mode": {
    "name": "ipython",
    "version": 3
   },
   "file_extension": ".py",
   "mimetype": "text/x-python",
   "name": "python",
   "nbconvert_exporter": "python",
   "pygments_lexer": "ipython3",
   "version": "3.12.3"
  }
 },
 "nbformat": 4,
 "nbformat_minor": 5
}
